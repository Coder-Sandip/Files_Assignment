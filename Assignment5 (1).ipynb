{
  "nbformat": 4,
  "nbformat_minor": 0,
  "metadata": {
    "colab": {
      "provenance": []
    },
    "kernelspec": {
      "name": "python3",
      "display_name": "Python 3"
    },
    "language_info": {
      "name": "python"
    }
  },
  "cells": [
    {
      "cell_type": "markdown",
      "source": [
        "# Files, Exceptional handling, logging and memory management Questions"
      ],
      "metadata": {
        "id": "aDKwACf6TaBe"
      }
    },
    {
      "cell_type": "markdown",
      "source": [
        "# 1. What is the difference between interpreted and compiled languages?"
      ],
      "metadata": {
        "id": "WbCU5tBFTcaB"
      }
    },
    {
      "cell_type": "markdown",
      "source": [
        "**Interpreted Languages:**\n",
        "\n",
        "\n",
        "\n",
        "*   **Execution:** Code is executed directly by an interpreter, line by line.\n",
        "*   **Translation Process:** The interpreter reads and executes the source code at runtime, translating it into machine code on the fly.\n",
        "*   **Performance:** Generally slower because the interpretation happens during execution.\n",
        "\n",
        "*   **Error Handling:** Errors are caught at runtime when the code is executed.\n",
        "*   **Examples**: Python, JavaScript, Ruby, PHP.\n",
        "\n",
        "**Compiled Languages:**\n",
        "\n",
        "\n",
        "*   **Execution:** Source code is translated into machine code (binary) by a compiler before execution.\n",
        "\n",
        "*   **Translation Process:**  A separate compilation step generates an executable file, which can be run without further translation.\n",
        "\n",
        "*   **Performance:** Faster since the machine code is pre-generated.\n",
        "\n",
        "\n",
        "\n",
        "*   **Error Handling:** Compilation catches many errors before the program is run.\n",
        "*   **Examples:** C, C++, Rust, Go.\n",
        "\n",
        "\n",
        "\n",
        "\n",
        "\n",
        "\n",
        "\n",
        "\n",
        "\n",
        "\n",
        "\n",
        "\n"
      ],
      "metadata": {
        "id": "1G0jZNyLT9FB"
      }
    },
    {
      "cell_type": "markdown",
      "source": [
        "# 2. What is exception handling in Python?"
      ],
      "metadata": {
        "id": "PwuFHhiPVm5i"
      }
    },
    {
      "cell_type": "markdown",
      "source": [
        "Exception handling in Python is a mechanism that allows a program to deal with unexpected events or errors (known as exceptions) that occur during runtime, ensuring that the program can handle them gracefully instead of crashing. Python provides a structured way to catch and manage exceptions using the try-except block.\n",
        "\n"
      ],
      "metadata": {
        "id": "Z474MJ2mVxMn"
      }
    },
    {
      "cell_type": "markdown",
      "source": [
        "# 3. What is the purpose of the finally block in exception handling?\n"
      ],
      "metadata": {
        "id": "OGDYHehaWRi3"
      }
    },
    {
      "cell_type": "markdown",
      "source": [
        "The finally block in Python's exception handling ensures that a specific block of code is always executed, regardless of whether an exception occurred or not. This is particularly useful for clean-up actions such as closing files, releasing resources, or resetting states."
      ],
      "metadata": {
        "id": "3L5OJSkHWcA4"
      }
    },
    {
      "cell_type": "markdown",
      "source": [
        "# 4. What is logging in Python?"
      ],
      "metadata": {
        "id": "DNch2dOHWvoC"
      }
    },
    {
      "cell_type": "markdown",
      "source": [
        "Logging in Python is the process of tracking events that occur while a program runs. Python's built-in logging module provides a flexible framework to record log messages, which can help with debugging, monitoring, and analyzing the behavior of your application."
      ],
      "metadata": {
        "id": "YU55h3yGW1NS"
      }
    },
    {
      "cell_type": "markdown",
      "source": [
        "# 5. What is the significance of the __del__ method in Python?"
      ],
      "metadata": {
        "id": "O8yTi46YW71N"
      }
    },
    {
      "cell_type": "markdown",
      "source": [
        "The __del__ method in Python is a special method (also known as a destructor) that is called when an object is about to be destroyed. It allows you to define custom cleanup logic, such as releasing resources, closing files, or performing other finalization tasks before the object is removed from memory by the garbage collector."
      ],
      "metadata": {
        "id": "9-1_GwhYbLxX"
      }
    },
    {
      "cell_type": "markdown",
      "source": [
        "# 6. What is the difference between import and from ... import in Python?"
      ],
      "metadata": {
        "id": "iXHRuiDhcQfU"
      }
    },
    {
      "cell_type": "markdown",
      "source": [
        "**import:**\n",
        "\n",
        "\n",
        "*   It imports Entire Module\n",
        "*   Access Syntax:\tModule name + dot notation (math.sqrt)\n",
        "*   Namespace Pollution:\tMinimal (only the module name is added)\n",
        "*   Potential Name Conflicts: \tLow\n",
        "*   Efficiency:\tSlightly slower if only one function/class is needed\n",
        "\n",
        "**from ... import:**\n",
        "\n",
        "*   It does not imports Entire Module\n",
        "*   Access Syntax:\t\tDirect access (sqrt)\n",
        "*   Namespace Pollution:\tHigher risk (imports specific names directly)\n",
        "*   Potential Name Conflicts:\tHigher (if names overlap)\n",
        "*   Efficiency:\tEfficient for specific imports"
      ],
      "metadata": {
        "id": "KzsIUIxpc_aC"
      }
    },
    {
      "cell_type": "markdown",
      "source": [
        "# 7. How can you handle multiple exceptions in Python?"
      ],
      "metadata": {
        "id": "tJd1mk2We6Lu"
      }
    },
    {
      "cell_type": "markdown",
      "source": [
        "In Python, you can handle multiple exceptions using several approaches. These methods allow you to specify different handlers for different exceptions or a single handler for multiple exceptions. Here's how you can manage multiple exceptions effectively:"
      ],
      "metadata": {
        "id": "OrxTnYXye_W7"
      }
    },
    {
      "cell_type": "code",
      "source": [
        "try:\n",
        "    x = int(input(\"Enter a number: \"))\n",
        "    result = 10 / x\n",
        "except ValueError:\n",
        "    print(\"Invalid input! Please enter a valid number.\")\n",
        "except ZeroDivisionError:\n",
        "    print(\"Division by zero is not allowed.\")\n",
        "except Exception as e:\n",
        "    print(f\"An unexpected error occurred: {e}\")\n"
      ],
      "metadata": {
        "colab": {
          "base_uri": "https://localhost:8080/"
        },
        "id": "jiMx9cFVjGUO",
        "outputId": "1cc81faa-d538-4fcc-bde7-845ae688930a"
      },
      "execution_count": null,
      "outputs": [
        {
          "output_type": "stream",
          "name": "stdout",
          "text": [
            "Enter a number: 0\n",
            "Division by zero is not allowed.\n"
          ]
        }
      ]
    },
    {
      "cell_type": "markdown",
      "source": [
        "# 8.  What is the purpose of the with statement when handling files in Python?"
      ],
      "metadata": {
        "id": "umsqYgR4jbbj"
      }
    },
    {
      "cell_type": "markdown",
      "source": [
        "\n",
        "**Purpose of the with Statement in File Handling:**\n",
        "\n",
        "**1.Automatic Resource Management:**\n",
        "\n",
        "The with statement automatically closes the file after the block of code is executed, even if an exception occurs. This eliminates the need for explicitly calling close().\n",
        "\n",
        "**2.Cleaner Code:**\n",
        "\n",
        "Reduces the boilerplate code required to handle files and ensures proper cleanup.\n",
        "\n",
        "**3.Exception Safety:**\n",
        "\n",
        "Prevents resource leaks by ensuring the file is closed properly, even in the presence of runtime exceptions."
      ],
      "metadata": {
        "id": "Mmp5do-MjlgW"
      }
    },
    {
      "cell_type": "markdown",
      "source": [
        "# 9. What is the difference between multithreading and multiprocessing?"
      ],
      "metadata": {
        "id": "W5y1aZCalfvJ"
      }
    },
    {
      "cell_type": "markdown",
      "source": [
        "**Multithreading:**\n",
        "\n",
        "\n",
        "*   Multithreading, many threads are created of a single process for increasing computing power.\n",
        "*   many threads of a process are executed simultaneously.\n",
        "*   Multithreading is not classified in any categories.\n",
        "*   Multithreading, process creation is according to economical.\n",
        "*   Multithreading, a common address space is shared by all the threads.\n",
        "\n",
        "**Multiprocessing:**\n",
        "\n",
        "\n",
        "*   In Multiprocessing, CPUs are added for increasing computing power.\n",
        "*   In Multiprocessing, Many processes are executed simultaneously.\n",
        "*   Multiprocessing are classified into Symmetric and Asymmetric.\n",
        "*   In Multiprocessing, Process creation is a time-consuming process.\n",
        "*   In Multiprocessing, every process owned a separate address space.\n",
        "\n",
        "\n",
        "\n"
      ],
      "metadata": {
        "id": "__fUW3Z-llYO"
      }
    },
    {
      "cell_type": "markdown",
      "source": [
        "# 10. What are the advantages of using logging in a program?"
      ],
      "metadata": {
        "id": "yUN5V69hr0wQ"
      }
    },
    {
      "cell_type": "markdown",
      "source": [
        "1. Improved problem detection: Logging can help identify problems early, allowing for faster resolution.\n",
        "\n",
        "2. Better security: Logging can help detect and respond to anomalies faster, which can improve an organization's security.\n",
        "\n",
        "3. Better customer experience: Logging can help improve the customer experience.\n",
        "\n",
        "4. More transparency: Logging can help increase transparency throughout the system.\n",
        "\n",
        "5. Easier debugging: Logging can help developers understand the flow of a program and debug errors more easily."
      ],
      "metadata": {
        "id": "keYv_yJbr7-x"
      }
    },
    {
      "cell_type": "markdown",
      "source": [
        "# 11. What is memory management in Python?"
      ],
      "metadata": {
        "id": "mf4Kde7G6Cgy"
      }
    },
    {
      "cell_type": "markdown",
      "source": [
        "Memory management in Python is the process of automatically allocating and managing memory so that programs can run efficiently. Python's memory manager handles most of the memory management tasks, allowing developers to focus on their code.\n",
        "\n"
      ],
      "metadata": {
        "id": "Ii7TU4Ru6IOs"
      }
    },
    {
      "cell_type": "markdown",
      "source": [
        "# 12. What are the basic steps involved in exception handling in Python?"
      ],
      "metadata": {
        "id": "-IlqwRQ36Ygf"
      }
    },
    {
      "cell_type": "markdown",
      "source": [
        "Steps for exception handling are as follows:-\n",
        "\n",
        "1. Identify Code that Might Raise Exceptions\n",
        "2. Use a try Block to Wrap Risky Code\n",
        "3. Handle Specific Exceptions with except Blocks\n",
        "4. Use a General except Block\n",
        "5. Use a finally Block for Cleanup"
      ],
      "metadata": {
        "id": "HbQWCJHJ6e-C"
      }
    },
    {
      "cell_type": "markdown",
      "source": [
        "# 13.  Why is memory management important in Python?"
      ],
      "metadata": {
        "id": "fPYMlklM7guO"
      }
    },
    {
      "cell_type": "markdown",
      "source": [
        "**Program performance:** Efficient memory management helps programs run faster and better on the machine they're running on.\n",
        "\n",
        "**Large-scale applications:** Python is used in many large-scale applications for data science and artificial intelligence, so efficient memory management is crucial.\n",
        "\n",
        "**Writing code:** Understanding memory management is important for writing memory-efficient code.\n",
        "\n",
        "**Generational garbage collection:** Python objects are categorized into three generations: Generation 0, Generation 1, and Generation 2. This technique is optional and can be triggered manually."
      ],
      "metadata": {
        "id": "4DvRiJpp7n20"
      }
    },
    {
      "cell_type": "markdown",
      "source": [
        "# 14. What is the role of try and except in exception handling?"
      ],
      "metadata": {
        "id": "5b5D8UmxAt_A"
      }
    },
    {
      "cell_type": "markdown",
      "source": [
        "The try and except blocks are fundamental components of exception handling in Python. They work together to allow programs to manage and recover from errors gracefully, without crashing.\n",
        "\n",
        "**The try Block Role:**\n",
        "\n",
        "The try block is used to wrap a section of code that might raise an exception. It signifies that the code within it is being monitored for potential errors.\n",
        "\n",
        "**Functionality:**\n",
        "\n",
        "1. Execution Monitoring: Python executes the code inside the try block line by line.\n",
        "\n",
        "2. Exception Detection: If an error occurs within the try block, Python stops executing the remaining code in the block and looks for an appropriate except block to handle the exception.\n",
        "\n",
        "3. Normal Execution: If no exceptions occur, the except blocks are skipped, and the program continues executing subsequent code.\n",
        "\n",
        "**The except Block Role:**\n",
        "\n",
        "The except block is designed to catch and handle exceptions that are raised within the corresponding try block. It specifies the type of exception it can handle and contains the code to execute when that exception occurs.\n",
        "\n",
        "**Functionality:**\n",
        "\n",
        "1. Specific Handling: By specifying particular exception types, developers can handle different errors in tailored ways.\n",
        "\n",
        "2. Fallback Mechanism: An except block can serve as a fallback to prevent the program from crashing, allowing it to continue running or terminate gracefully.\n",
        "\n",
        "3. Accessing Exception Information: The except block can capture details about the exception for logging or debugging purposes."
      ],
      "metadata": {
        "id": "sLFcGBIoA0dI"
      }
    },
    {
      "cell_type": "markdown",
      "source": [
        "# 15.  How does Python's garbage collection system work?"
      ],
      "metadata": {
        "id": "iPgxWCNvCvm-"
      }
    },
    {
      "cell_type": "markdown",
      "source": [
        "*Python's garbage collection system uses two main mechanisms to manage memory:*\n",
        "\n",
        "**Reference counting:**\n",
        "\n",
        "Tracks how many references an object has. When an object is created, its reference count is set to one. The count increases when another variable or data structure refers to the object, and decreases when the object is deleted or reassigned. When the reference count reaches zero, the object is deleted.\n",
        "\n",
        "**Generational garbage collection:**\n",
        "\n",
        "Classifies objects into generations based on how many collection sweeps they've survived. New objects are placed in generation 0, and move up to older generations if they survive a collection.\n",
        "\n",
        "*The garbage collection system works by:*\n",
        "\n",
        "**Running automatically:**\n",
        "The garbage collector starts running when the program starts, and runs again when certain thresholds are met.\n",
        "\n",
        "**Keeping track of objects:**\n",
        "The garbage collector keeps track of all objects in memory.\n",
        "\n",
        "**Deciding when to run:**\n",
        "The garbage collector tracks the number of object allocations and deallocations since the last collection. When the number of allocations minus the number of deallocations exceeds a threshold, collection starts.\n",
        "\n",
        "**Compacting live objects:**\n",
        "When a collection is triggered, the garbage collector moves live objects together to remove dead space and make the heap smaller"
      ],
      "metadata": {
        "id": "cFs3udAhC2wy"
      }
    },
    {
      "cell_type": "markdown",
      "source": [
        "# 16. What is the purpose of the else block in exception handling?\n"
      ],
      "metadata": {
        "id": "wu9u7J9xEXwk"
      }
    },
    {
      "cell_type": "markdown",
      "source": [
        "In Python's exception handling, the else block is an optional part of the try-except-else structure. Its purpose is to execute code that should run only if no exceptions are raised in the try block.\n",
        "\n",
        "***Syntax***:\n",
        "```\n",
        "try:\n",
        "    # Code that might raise an exception\n",
        "except SomeException:\n",
        "    # Code to handle the exception\n",
        "else:\n",
        "    # Code to execute if no exception occurred\n",
        "\n",
        "```\n",
        "**Purpose of else block:**\n",
        "\n",
        "***No Exceptions Trigger else:*** The else block will run if the code inside the try block executes successfully without any exception.\n",
        "\n",
        "***Keeps Code Organized:*** It is useful for separating logic that only needs to occur when the try block succeeds, from logic in the try block itself.\n",
        "\n",
        "***Avoids Redundancy:*** Instead of putting all subsequent code outside the try-except, the else block ensures that some code only runs in the \"no exceptions\" scenario.\n",
        "\n"
      ],
      "metadata": {
        "id": "5KIK19-JrVeJ"
      }
    },
    {
      "cell_type": "markdown",
      "source": [
        "# 17.  What are the common logging levels in Python?"
      ],
      "metadata": {
        "id": "zTElny8bx-IN"
      }
    },
    {
      "cell_type": "markdown",
      "source": [
        "**1.CRITICAL (50)**\n",
        "\n",
        "\n",
        "*   Indicates a very serious error or critical issue.\n",
        "*   Example: The program may be unable to continue running.\n",
        "\n",
        "**2.ERROR (40)**\n",
        "\n",
        "*   Indicates a more severe issue that has caused an operation to fail.\n",
        "*   Example: An exception that couldn't be handled.\n",
        "\n",
        "**3.WARNING (30)**\n",
        "\n",
        "\n",
        "*   Indicates a potential problem or an unexpected situation that does not prevent the program from running but might require attention.\n",
        "\n",
        "*   Example: Deprecated function usage or near resource limits.\n",
        "\n",
        "**4.INFO (20)**\n",
        "\n",
        "\n",
        "\n",
        "*  Used to report general information about program execution.\n",
        "*  Example: Process milestones or general runtime information.\n",
        "\n",
        "**5.DEBUG (10)**\n",
        "\n",
        "\n",
        "\n",
        "*   Provides detailed information for diagnosing problems and understanding the internal state of the application.\n",
        "*   Example: Variable values or function execution paths.\n",
        "\n",
        "**6.NOTSET (0)**\n",
        "\n",
        "*   Indicates that no specific level has been set. This level is rarely used directly.\n",
        "\n",
        "\n",
        "\n",
        "\n",
        "\n",
        "\n",
        "\n",
        "\n",
        "\n",
        "\n",
        "\n",
        "\n",
        "\n",
        "\n",
        "\n",
        "\n",
        "\n",
        "\n",
        "\n",
        "\n",
        "\n",
        "\n",
        "\n",
        "\n"
      ],
      "metadata": {
        "id": "LZq0hOZIyEK2"
      }
    },
    {
      "cell_type": "markdown",
      "source": [
        "# 18. What is the difference between os.fork() and multiprocessing in Python?"
      ],
      "metadata": {
        "id": "X6xDO4hX-vnR"
      }
    },
    {
      "cell_type": "markdown",
      "source": [
        "**os.fork():**\n",
        "\n",
        "\n",
        "\n",
        "*   Directly calls the underlying operating system's fork() system call (Unix-based systems only).\n",
        "*   Creates a new process (child) by duplicating the current process.\n",
        "*   Available only on Unix-like systems (Linux, macOS, etc.).\n",
        "*   Unix-specific low-level tasks\n",
        "*   It is used for Low-level manual handling\n",
        "\n",
        "**multiprocessing:**\n",
        "\n",
        "\n",
        "\n",
        "*   A Python module designed to provide a high-level interface for creating and managing processes.\n",
        "*   Works cross-platform (supports both Unix and Windows).\n",
        "*   Implements process creation using fork (on Unix) or other mechanisms like spawn (on Windows).\n",
        "\n",
        "*   High-level parallel processing\n",
        "*   It's ease of use is High-level, user-friendly\n",
        "\n",
        "\n",
        "\n",
        "\n",
        "\n",
        "\n"
      ],
      "metadata": {
        "id": "Dei4ZcTh-3b6"
      }
    },
    {
      "cell_type": "markdown",
      "source": [
        "# 19. What is the importance of closing a file in Python?"
      ],
      "metadata": {
        "id": "yEqKdieZA8Ig"
      }
    },
    {
      "cell_type": "markdown",
      "source": [
        "**Resource Management:**\n",
        "Open files consume system resources such as file descriptors. Closing the file frees these resources, allowing them to be used elsewhere.\n",
        "\n",
        "**Data Integrity:** When writing to a file, data is often buffered in memory before being written to the disk. Closing the file ensures that any buffered data is flushed (written) to disk.\n",
        "\n",
        "**Avoiding File Corruption:** If files are left open, they continue to occupy memory, leading to inefficient memory usage and, in severe cases, memory leaks in long-running applications.\n",
        "\n",
        "**Allowing Other Processes to Access the File:** You can close a file explicitly using the close() method or use a context manager (with statement), which ensures the file is closed automatically."
      ],
      "metadata": {
        "id": "XUfVydhwBCXc"
      }
    },
    {
      "cell_type": "markdown",
      "source": [
        "# 20. What is the difference between file.read() and file.readline() in Python?"
      ],
      "metadata": {
        "id": "R04_5aq2CGES"
      }
    },
    {
      "cell_type": "markdown",
      "source": [
        "**file.read():**\n",
        "\n",
        "\n",
        "*   Reads the whole file or a specified chunk\n",
        "\n",
        "*   Process entire content or chunks\n",
        "\n",
        "*   eturns an empty string after EOF\n",
        "*   May load large files into memory (if no size is specified)\n",
        "\n",
        "\n",
        "*   If size is specified, it reads up to size characters or bytes.\n",
        "\n",
        "\n",
        "**file.readline():**\n",
        "\n",
        "\n",
        "*   Reads the next line from the file up to and including the newline character (\\n).\n",
        "*   If called repeatedly, it continues reading the next line until the end of the file is reached.\n",
        "\n",
        "*   It process file line by line\n",
        "*   Suitable for large files (line by line processing)\n",
        "\n",
        "*   \tReads one line at a time\n",
        "\n",
        "\n",
        "\n",
        "\n",
        "\n",
        "\n"
      ],
      "metadata": {
        "id": "dC--OHCsCLXF"
      }
    },
    {
      "cell_type": "markdown",
      "source": [
        "# 21. What is the logging module in Python used for?"
      ],
      "metadata": {
        "id": "R4UhV4GvVIVT"
      }
    },
    {
      "cell_type": "markdown",
      "source": [
        "The logging module in Python is a built-in library used for tracking events that occur during the execution of a program. These events are recorded in a log, which can be invaluable for debugging, monitoring, and auditing an application.\n",
        "\n",
        "**Key Purposes of the logging Module:**\n",
        "\n",
        "**Debugging:**\n",
        "Helps identify and diagnose issues in the code by recording detailed information during execution.\n",
        "\n",
        "**Monitoring:**\n",
        "Provides runtime feedback about application states, such as performance metrics or user actions.\n",
        "\n",
        "**Auditing:**\n",
        "Records critical events for compliance, security, or review purposes (e.g., access logs).\n",
        "\n",
        "**Error Reporting:**\n",
        "Logs errors and exceptions to make them easier to track and fix.\n"
      ],
      "metadata": {
        "id": "YHMCfrH8VQYj"
      }
    },
    {
      "cell_type": "markdown",
      "source": [
        "# 22. What is the os module in Python used for in file handling?"
      ],
      "metadata": {
        "id": "0NVRh5ztVmrQ"
      }
    },
    {
      "cell_type": "markdown",
      "source": [
        "\n",
        "The os module in Python provides a wide range of functionalities to interact with the operating system, making it especially useful for file and directory handling. It allows you to perform operations like file creation, deletion, renaming, and navigating the file system programmatically.\n",
        "\n"
      ],
      "metadata": {
        "id": "dZ3FTIJpVsC3"
      }
    },
    {
      "cell_type": "markdown",
      "source": [
        "# 23. What are the challenges associated with memory management in Python?"
      ],
      "metadata": {
        "id": "O96xeozmWCjb"
      }
    },
    {
      "cell_type": "markdown",
      "source": [
        "**Reference Cycles:**\n",
        " Python's primary memory management relies on reference counting, which cannot handle circular references (e.g., objects referring to each other).\n",
        "\n",
        "**Memory Leaks:**\n",
        " Memory leaks can occur if objects are unintentionally kept alive, such as by holding references in global variables, data structures, or closures.\n",
        "\n",
        "**Large Object Memory Usage:**\n",
        "Python allocates memory generously for objects like lists, dictionaries, and strings, which can lead to excessive memory usage for large data sets.\n",
        "\n",
        "**Fragmentation:**\n",
        "Memory fragmentation occurs when memory allocation and deallocation result in small, unusable memory blocks. Python's internal memory allocator can suffer from fragmentation in long-running applications."
      ],
      "metadata": {
        "id": "29lbqRHWWIz4"
      }
    },
    {
      "cell_type": "markdown",
      "source": [
        "# 24. How do you raise an exception manually in Python?"
      ],
      "metadata": {
        "id": "ncU4v84YWoIc"
      }
    },
    {
      "cell_type": "markdown",
      "source": [
        "\n",
        "In Python, you can manually raise an exception using the raise keyword. This allows you to trigger an exception intentionally, either with a built-in exception type or a custom exception class.\n"
      ],
      "metadata": {
        "id": "OKqbKyQUWuIP"
      }
    },
    {
      "cell_type": "code",
      "source": [
        "#Raising Built-in Exceptions\n",
        "\n",
        "raise ValueError(\"This is a manually raised ValueError.\")\n"
      ],
      "metadata": {
        "colab": {
          "base_uri": "https://localhost:8080/",
          "height": 176
        },
        "id": "fQ1qCmZ6W-4k",
        "outputId": "d9bdb6e5-b694-4859-d09f-1129aee3205c"
      },
      "execution_count": null,
      "outputs": [
        {
          "output_type": "error",
          "ename": "ValueError",
          "evalue": "This is a manually raised ValueError.",
          "traceback": [
            "\u001b[0;31m---------------------------------------------------------------------------\u001b[0m",
            "\u001b[0;31mValueError\u001b[0m                                Traceback (most recent call last)",
            "\u001b[0;32m<ipython-input-1-f80cd46093ea>\u001b[0m in \u001b[0;36m<cell line: 3>\u001b[0;34m()\u001b[0m\n\u001b[1;32m      1\u001b[0m \u001b[0;31m#Raising Built-in Exceptions\u001b[0m\u001b[0;34m\u001b[0m\u001b[0;34m\u001b[0m\u001b[0m\n\u001b[1;32m      2\u001b[0m \u001b[0;34m\u001b[0m\u001b[0m\n\u001b[0;32m----> 3\u001b[0;31m \u001b[0;32mraise\u001b[0m \u001b[0mValueError\u001b[0m\u001b[0;34m(\u001b[0m\u001b[0;34m\"This is a manually raised ValueError.\"\u001b[0m\u001b[0;34m)\u001b[0m\u001b[0;34m\u001b[0m\u001b[0;34m\u001b[0m\u001b[0m\n\u001b[0m",
            "\u001b[0;31mValueError\u001b[0m: This is a manually raised ValueError."
          ]
        }
      ]
    },
    {
      "cell_type": "markdown",
      "source": [
        "# 25. Why is it important to use multithreading in certain applications?"
      ],
      "metadata": {
        "id": "ThhS4VtEXRLF"
      }
    },
    {
      "cell_type": "markdown",
      "source": [
        "**Improved Responsiveness:**\n",
        " Applications like user interfaces (UIs) benefit from multithreading because it prevents the main thread from getting blocked by long-running tasks.\n",
        "\n",
        "**Efficient Resource Utilization:**\n",
        " Multithreading allows you to make better use of system resources like CPU and memory.\n",
        "\n",
        "**Scalability:**\n",
        " Server applications, such as web servers or database servers, need to handle multiple requests or connections simultaneously.\n",
        "\n",
        "**Simulation of Parallelism:**\n",
        " Even though Python's Global Interpreter Lock (GIL) limits true parallelism in CPU-bound tasks, multithreading can still simulate parallelism for certain use cases."
      ],
      "metadata": {
        "id": "pXMdAHRBXei8"
      }
    },
    {
      "cell_type": "markdown",
      "source": [
        "# Practical Questions"
      ],
      "metadata": {
        "id": "6_kET_VwY2OG"
      }
    },
    {
      "cell_type": "markdown",
      "source": [
        "# 1. How can you open a file for writing in Python and write a string to it?"
      ],
      "metadata": {
        "id": "BGjd9kj0GMvF"
      }
    },
    {
      "cell_type": "markdown",
      "source": [
        "To open a file for writing in Python and write a string to it, you can use the built-in open() function with the mode \"w\". Here's an example:"
      ],
      "metadata": {
        "id": "fqWwvjWAGb4M"
      }
    },
    {
      "cell_type": "code",
      "source": [
        "\n",
        "with open(\"example.txt\", \"w\") as file:\n",
        "    file.write(\"Hello, world!\")\n",
        "\n",
        "print(\"String written to file.\")\n"
      ],
      "metadata": {
        "colab": {
          "base_uri": "https://localhost:8080/"
        },
        "id": "1gfMNpErHLIm",
        "outputId": "d40df65e-3fc2-470c-b372-e11f67b47c8c"
      },
      "execution_count": null,
      "outputs": [
        {
          "output_type": "stream",
          "name": "stdout",
          "text": [
            "String written to file.\n"
          ]
        }
      ]
    },
    {
      "cell_type": "markdown",
      "source": [
        "# 2.  Write a Python program to read the contents of a file and print each line?"
      ],
      "metadata": {
        "id": "xVAmUNZRH175"
      }
    },
    {
      "cell_type": "code",
      "source": [
        "\n",
        "with open(\"example.txt\", \"r\") as file:\n",
        "\n",
        "    for line in file:\n",
        "        print(line, end=\"\")\n",
        "print(\"\\nFile reading complete.\")\n"
      ],
      "metadata": {
        "colab": {
          "base_uri": "https://localhost:8080/"
        },
        "id": "wLf_fH5sT_bt",
        "outputId": "a6e73046-d78f-4542-9868-5a5a1357b79b"
      },
      "execution_count": null,
      "outputs": [
        {
          "output_type": "stream",
          "name": "stdout",
          "text": [
            "Hello, world!\n",
            "File reading complete.\n"
          ]
        }
      ]
    },
    {
      "cell_type": "markdown",
      "source": [
        "# 3.  How would you handle a case where the file doesn't exist while trying to open it for reading?"
      ],
      "metadata": {
        "id": "tkKCMMboUGAy"
      }
    },
    {
      "cell_type": "markdown",
      "source": [
        "\n",
        "To handle the case where a file doesn't exist while trying to open it for reading, you can use a try-except block to catch the FileNotFoundError exception. Here's an example:\n"
      ],
      "metadata": {
        "id": "KnXkcOqsUMOy"
      }
    },
    {
      "cell_type": "code",
      "source": [
        "file_name = \"example.txt\"\n",
        "\n",
        "try:\n",
        "\n",
        "    with open(file_name, \"r\") as file:\n",
        "        for line in file:\n",
        "            print(line, end=\"\")\n",
        "except FileNotFoundError:\n",
        "    print(f\"Error: The file '{file_name}' does not exist.\")\n"
      ],
      "metadata": {
        "colab": {
          "base_uri": "https://localhost:8080/"
        },
        "id": "0yOO56WQUVkd",
        "outputId": "ee2d72eb-e5b5-4056-8860-ad7db5d1afbb"
      },
      "execution_count": null,
      "outputs": [
        {
          "output_type": "stream",
          "name": "stdout",
          "text": [
            "Hello, world!"
          ]
        }
      ]
    },
    {
      "cell_type": "markdown",
      "source": [
        "# 4. Write a Python script that reads from one file and writes its content to another file?"
      ],
      "metadata": {
        "id": "2ROpDlgrUe1g"
      }
    },
    {
      "cell_type": "code",
      "source": [
        "\n",
        "input_file = \"source.txt\"\n",
        "output_file = \"destination.txt\"\n",
        "\n",
        "try:\n",
        "\n",
        "    with open(input_file, \"r\") as infile:\n",
        "        with open(output_file, \"w\") as outfile:\n",
        "\n",
        "            for line in infile:\n",
        "                outfile.write(line)\n",
        "\n",
        "    print(f\"Contents copied from '{input_file}' to '{output_file}' successfully.\")\n",
        "except FileNotFoundError:\n",
        "    print(f\"Error: The file '{input_file}' does not exist.\")\n",
        "except Exception as e:\n",
        "    print(f\"An error occurred: {e}\")\n"
      ],
      "metadata": {
        "colab": {
          "base_uri": "https://localhost:8080/"
        },
        "id": "uX6IUFLMU2Ty",
        "outputId": "1877bfe7-5023-46f9-9b38-1f0ecaf00245"
      },
      "execution_count": null,
      "outputs": [
        {
          "output_type": "stream",
          "name": "stdout",
          "text": [
            "Error: The file 'source.txt' does not exist.\n"
          ]
        }
      ]
    },
    {
      "cell_type": "markdown",
      "source": [
        "# 5.  How would you catch and handle division by zero error in Python?\n"
      ],
      "metadata": {
        "id": "nwWiTx1gUdx4"
      }
    },
    {
      "cell_type": "code",
      "source": [
        "try:\n",
        "    # Attempt division\n",
        "    numerator = 10\n",
        "    denominator = 0\n",
        "    result = numerator / denominator\n",
        "    print(f\"Result: {result}\")\n",
        "except ZeroDivisionError:\n",
        "    print(\"Error: Division by zero is not allowed.\")\n"
      ],
      "metadata": {
        "colab": {
          "base_uri": "https://localhost:8080/"
        },
        "id": "q0r7PDsLVG2V",
        "outputId": "549c431b-40c9-4686-c410-e6574130d377"
      },
      "execution_count": null,
      "outputs": [
        {
          "output_type": "stream",
          "name": "stdout",
          "text": [
            "Error: Division by zero is not allowed.\n"
          ]
        }
      ]
    },
    {
      "cell_type": "markdown",
      "source": [
        "# 6. Write a Python program that logs an error message to a log file when a division by zero exception occurs?"
      ],
      "metadata": {
        "id": "v5-JdU3gVI30"
      }
    },
    {
      "cell_type": "code",
      "source": [
        "import logging\n",
        "\n",
        "logging.basicConfig(\n",
        "    filename=\"error_log.txt\",\n",
        "    level=logging.ERROR,\n",
        "    format=\"%(asctime)s - %(levelname)s - %(message)s\"\n",
        ")\n",
        "\n",
        "try:\n",
        "    # Attempt division\n",
        "    numerator = 10\n",
        "    denominator = 0\n",
        "    result = numerator / denominator\n",
        "    print(f\"Result: {result}\")\n",
        "except ZeroDivisionError:\n",
        "    error_message = \"Division by zero error occurred.\"\n",
        "    print(error_message)\n",
        "    logging.error(error_message)\n"
      ],
      "metadata": {
        "colab": {
          "base_uri": "https://localhost:8080/"
        },
        "id": "6QgzICgwVRl0",
        "outputId": "53659d61-9d10-4555-8a5b-40caf0a33c7e"
      },
      "execution_count": null,
      "outputs": [
        {
          "output_type": "stream",
          "name": "stderr",
          "text": [
            "ERROR:root:Division by zero error occurred.\n"
          ]
        },
        {
          "output_type": "stream",
          "name": "stdout",
          "text": [
            "Division by zero error occurred.\n"
          ]
        }
      ]
    },
    {
      "cell_type": "markdown",
      "source": [
        "# 7.  How do you log information at different levels (INFO, ERROR, WARNING) in Python using the logging module?"
      ],
      "metadata": {
        "id": "V4VWN5vqVVAs"
      }
    },
    {
      "cell_type": "markdown",
      "source": [
        "**Logging Levels:**\n",
        "\n",
        "**DEBUG:**\n",
        "Lowest level. Detailed information, typically for diagnosing problems.\n",
        "Example: logging.debug(\"Debugging info.\")\n",
        "\n",
        "**INFO:**\n",
        "Confirmation that things are working as expected.\n",
        "Example: logging.info(\"Program started successfully.\")\n",
        "\n",
        "**WARNING:**\n",
        "An indication that something unexpected happened, but the program is still working.\n",
        "Example: logging.warning(\"Disk space running low.\")\n",
        "\n",
        "**ERROR:**\n",
        "A more serious problem. The program may not be able to perform some functions.\n",
        "Example: logging.error(\"Failed to open file.\")\n",
        "\n",
        "**CRITICAL:**\n",
        "A very serious error. The program may stop working entirely.\n",
        "Example: logging.critical(\"System failure.\")"
      ],
      "metadata": {
        "id": "C3w3vKN7V5lk"
      }
    },
    {
      "cell_type": "code",
      "source": [
        "import logging\n",
        "\n",
        "\n",
        "logging.basicConfig(\n",
        "    filename=\"app.log\",\n",
        "    level=logging.DEBUG,\n",
        "    format=\"%(asctime)s - %(levelname)s - %(message)s\"\n",
        ")\n",
        "\n",
        "# Log messages at different levels\n",
        "logging.debug(\"This is a debug message. Useful for troubleshooting.\")\n",
        "logging.info(\"This is an info message. General information about program execution.\")\n",
        "logging.warning(\"This is a warning message. Something might go wrong.\")\n",
        "logging.error(\"This is an error message. An error occurred.\")\n",
        "logging.critical(\"This is a critical message. Severe error, program may crash.\")\n"
      ],
      "metadata": {
        "colab": {
          "base_uri": "https://localhost:8080/"
        },
        "id": "9aE21nkzVwmb",
        "outputId": "157545be-dbfa-4400-e67a-5f8b2260ea81"
      },
      "execution_count": null,
      "outputs": [
        {
          "output_type": "stream",
          "name": "stderr",
          "text": [
            "WARNING:root:This is a warning message. Something might go wrong.\n",
            "ERROR:root:This is an error message. An error occurred.\n",
            "CRITICAL:root:This is a critical message. Severe error, program may crash.\n"
          ]
        }
      ]
    },
    {
      "cell_type": "markdown",
      "source": [
        "# 8. Write a program to handle a file opening error using exception handling?"
      ],
      "metadata": {
        "id": "G9fLdNW1WOlz"
      }
    },
    {
      "cell_type": "code",
      "source": [
        "file_name = \"non_existent_file.txt\"\n",
        "\n",
        "try:\n",
        "\n",
        "    with open(file_name, \"r\") as file:\n",
        "        content = file.read()\n",
        "        print(content)\n",
        "except FileNotFoundError:\n",
        "    print(f\"Error: The file '{file_name}' does not exist.\")\n",
        "except PermissionError:\n",
        "    print(f\"Error: You don't have permission to access the file '{file_name}'.\")\n",
        "except Exception as e:\n",
        "    print(f\"An unexpected error occurred: {e}\")\n"
      ],
      "metadata": {
        "colab": {
          "base_uri": "https://localhost:8080/"
        },
        "id": "YyxJ8BwEWUhb",
        "outputId": "cb93ac2a-d7a4-4eac-a08b-d814715e6bb4"
      },
      "execution_count": null,
      "outputs": [
        {
          "output_type": "stream",
          "name": "stdout",
          "text": [
            "Error: The file 'non_existent_file.txt' does not exist.\n"
          ]
        }
      ]
    },
    {
      "cell_type": "markdown",
      "source": [
        "# 9. How can you read a file line by line and store its content in a list in Python?"
      ],
      "metadata": {
        "id": "7rPnu8J5WdRF"
      }
    },
    {
      "cell_type": "code",
      "source": [
        "\n",
        "file_name = \"example.txt\"\n",
        "\n",
        "try:\n",
        "\n",
        "    with open(file_name, \"r\") as file:\n",
        "\n",
        "        lines = file.readlines()\n",
        "\n",
        "\n",
        "    print(lines)\n",
        "except FileNotFoundError:\n",
        "    print(f\"Error: The file '{file_name}' does not exist.\")\n"
      ],
      "metadata": {
        "colab": {
          "base_uri": "https://localhost:8080/"
        },
        "id": "8hJ9ER79WnpR",
        "outputId": "b8ec738c-1d87-43cf-eb7c-7c8d9aef797d"
      },
      "execution_count": null,
      "outputs": [
        {
          "output_type": "stream",
          "name": "stdout",
          "text": [
            "['Hello, world!']\n"
          ]
        }
      ]
    },
    {
      "cell_type": "markdown",
      "source": [
        "# 10. How can you append data to an existing file in Python?"
      ],
      "metadata": {
        "id": "93Kt9EMkWiaf"
      }
    },
    {
      "cell_type": "code",
      "source": [
        "file_name = \"example.txt\"\n",
        "\n",
        "try:\n",
        "\n",
        "    with open(file_name, \"a\") as file:\n",
        "        # Append data to the file\n",
        "        file.write(\"This is a new line of text.\\n\")\n",
        "\n",
        "    print(f\"Data appended to '{file_name}' successfully.\")\n",
        "except FileNotFoundError:\n",
        "    print(f\"Error: The file '{file_name}' does not exist.\")\n",
        "except Exception as e:\n",
        "    print(f\"An error occurred: {e}\")\n"
      ],
      "metadata": {
        "colab": {
          "base_uri": "https://localhost:8080/"
        },
        "id": "UEZW8toxWw2r",
        "outputId": "d2e3ce52-ecb5-497d-a577-711992b102a5"
      },
      "execution_count": null,
      "outputs": [
        {
          "output_type": "stream",
          "name": "stdout",
          "text": [
            "Data appended to 'example.txt' successfully.\n"
          ]
        }
      ]
    },
    {
      "cell_type": "markdown",
      "source": [
        "# 11.  Write a Python program that uses a try-except block to handle an error when attempting to access a dictionary key that doesn't exist?"
      ],
      "metadata": {
        "id": "UkjQmywIWwVS"
      }
    },
    {
      "cell_type": "code",
      "source": [
        "# Define a dictionary\n",
        "my_dict = {\"name\": \"Alice\", \"age\": 25, \"city\": \"New York\"}\n",
        "\n",
        "# Key to access\n",
        "key_to_access = \"country\"\n",
        "\n",
        "try:\n",
        "    value = my_dict[key_to_access]\n",
        "    print(f\"The value for '{key_to_access}' is: {value}\")\n",
        "except KeyError:\n",
        "    print(f\"Error: The key '{key_to_access}' does not exist in the dictionary.\")\n"
      ],
      "metadata": {
        "colab": {
          "base_uri": "https://localhost:8080/"
        },
        "id": "jsHQ_xJlXSK0",
        "outputId": "2853b991-b33e-4aef-c531-21e3b55263dd"
      },
      "execution_count": null,
      "outputs": [
        {
          "output_type": "stream",
          "name": "stdout",
          "text": [
            "Error: The key 'country' does not exist in the dictionary.\n"
          ]
        }
      ]
    },
    {
      "cell_type": "markdown",
      "source": [
        "# 12. Write a program that demonstrates using multiple except blocks to handle different types of exceptions?"
      ],
      "metadata": {
        "id": "jaQ2QJ1dj_Vs"
      }
    },
    {
      "cell_type": "code",
      "source": [
        "try:\n",
        "\n",
        "    numerator = 10\n",
        "    denominator = 0\n",
        "    result = numerator / denominator\n",
        "    print(f\"Result: {result}\")\n",
        "\n",
        "except ZeroDivisionError:\n",
        "    print(\"Error: Cannot divide by zero!\")\n",
        "\n",
        "try:\n",
        "    # Example 2: Invalid value conversion (ValueError)\n",
        "    user_input = \"abc\"\n",
        "    number = int(user_input)\n",
        "    print(f\"Converted number: {number}\")\n",
        "\n",
        "except ValueError:\n",
        "    print(\"Error: Invalid input, could not convert to an integer!\")\n",
        "\n",
        "try:\n",
        "    # Example 3: File not found (FileNotFoundError)\n",
        "    file_name = \"non_existent_file.txt\"\n",
        "    with open(file_name, \"r\") as file:\n",
        "        content = file.read()\n",
        "    print(content)\n",
        "\n",
        "except FileNotFoundError:\n",
        "    print(f\"Error: The file '{file_name}' was not found!\")\n"
      ],
      "metadata": {
        "colab": {
          "base_uri": "https://localhost:8080/"
        },
        "id": "urwXmuTBkSCK",
        "outputId": "2e8b93ef-08e0-462b-8b88-c1c10742a3ab"
      },
      "execution_count": null,
      "outputs": [
        {
          "output_type": "stream",
          "name": "stdout",
          "text": [
            "Error: Cannot divide by zero!\n",
            "Error: Invalid input, could not convert to an integer!\n",
            "Error: The file 'non_existent_file.txt' was not found!\n"
          ]
        }
      ]
    },
    {
      "cell_type": "markdown",
      "source": [
        "# 13. How would you check if a file exists before attempting to read it in Python?"
      ],
      "metadata": {
        "id": "YgKl3VONkf9k"
      }
    },
    {
      "cell_type": "code",
      "source": [
        "#Using os.path.exists()\n",
        "\n",
        "import os\n",
        "\n",
        "file_name = \"example.txt\"\n",
        "\n",
        "if os.path.exists(file_name):\n",
        "    with open(file_name, \"r\") as file:\n",
        "        content = file.read()\n",
        "    print(\"File content:\", content)\n",
        "else:\n",
        "    print(f\"Error: The file '{file_name}' does not exist.\")\n"
      ],
      "metadata": {
        "colab": {
          "base_uri": "https://localhost:8080/"
        },
        "id": "7iSbjji4km2Y",
        "outputId": "7cf65f5f-16c6-4136-d5db-3ac6bef0e163"
      },
      "execution_count": null,
      "outputs": [
        {
          "output_type": "stream",
          "name": "stdout",
          "text": [
            "File content: Hello, world!This is a new line of text.\n",
            "\n"
          ]
        }
      ]
    },
    {
      "cell_type": "code",
      "source": [
        "# Using pathlib.Path.exists()\n",
        "\n",
        "from pathlib import Path\n",
        "\n",
        "file_name = Path(\"example.txt\")\n",
        "\n",
        "if file_name.exists():\n",
        "    with open(file_name, \"r\") as file:\n",
        "        content = file.read()\n",
        "    print(\"File content:\", content)\n",
        "else:\n",
        "    print(f\"Error: The file '{file_name}' does not exist.\")\n"
      ],
      "metadata": {
        "colab": {
          "base_uri": "https://localhost:8080/"
        },
        "id": "Z6i3sEbQk0FP",
        "outputId": "4b88dc40-b970-452a-aa07-53c388602398"
      },
      "execution_count": null,
      "outputs": [
        {
          "output_type": "stream",
          "name": "stdout",
          "text": [
            "File content: Hello, world!This is a new line of text.\n",
            "\n"
          ]
        }
      ]
    },
    {
      "cell_type": "markdown",
      "source": [
        "# 14. Write a program that uses the logging module to log both informational and error messages."
      ],
      "metadata": {
        "id": "n4Fd58MOlBPZ"
      }
    },
    {
      "cell_type": "code",
      "source": [
        "import logging\n",
        "\n",
        "logging.basicConfig(\n",
        "    filename=\"app.log\",\n",
        "    level=logging.DEBUG,\n",
        "    format=\"%(asctime)s - %(levelname)s - %(message)s\"\n",
        ")\n",
        "\n",
        "logging.info(\"This is an informational message.\")\n",
        "\n",
        "try:\n",
        "    # Example: Division by zero\n",
        "    numerator = 10\n",
        "    denominator = 0\n",
        "    result = numerator / denominator\n",
        "    logging.info(f\"Result of division: {result}\")\n",
        "except ZeroDivisionError:\n",
        "    logging.error(\"Error: Division by zero occurred!\")\n",
        "\n",
        "logging.info(\"Program execution completed.\")\n"
      ],
      "metadata": {
        "colab": {
          "base_uri": "https://localhost:8080/"
        },
        "id": "EI2MP7qllTPb",
        "outputId": "490bd98f-6d27-481f-82f9-61d595f70821"
      },
      "execution_count": null,
      "outputs": [
        {
          "output_type": "stream",
          "name": "stderr",
          "text": [
            "ERROR:root:Error: Division by zero occurred!\n"
          ]
        }
      ]
    }
  ]
}